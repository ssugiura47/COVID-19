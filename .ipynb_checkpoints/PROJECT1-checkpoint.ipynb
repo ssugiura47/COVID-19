{
 "cells": [
  {
   "cell_type": "code",
   "execution_count": 1,
   "metadata": {},
   "outputs": [],
   "source": [
    "# Dependencies\n",
    "import numpy as np\n",
    "import pandas as pd\n",
    "import matplotlib.pyplot as plt\n",
    "import requests\n",
    "import json\n",
    "import csv\n",
    "import scipy.stats as st\n",
    "from scipy.stats import linregress\n",
    "from math import pi\n",
    "\n",
    "import gmaps\n",
    "\n",
    "# Census API Keys\n",
    "from config import api_key\n",
    "from config import gkey"
   ]
  },
  {
   "cell_type": "code",
   "execution_count": 2,
   "metadata": {},
   "outputs": [
    {
     "data": {
      "text/html": [
       "<div>\n",
       "<style scoped>\n",
       "    .dataframe tbody tr th:only-of-type {\n",
       "        vertical-align: middle;\n",
       "    }\n",
       "\n",
       "    .dataframe tbody tr th {\n",
       "        vertical-align: top;\n",
       "    }\n",
       "\n",
       "    .dataframe thead th {\n",
       "        text-align: right;\n",
       "    }\n",
       "</style>\n",
       "<table border=\"1\" class=\"dataframe\">\n",
       "  <thead>\n",
       "    <tr style=\"text-align: right;\">\n",
       "      <th></th>\n",
       "      <th>State</th>\n",
       "      <th>Population</th>\n",
       "      <th>Median Household Income Est.</th>\n",
       "      <th>Cases</th>\n",
       "      <th>Deaths</th>\n",
       "      <th>Mortality Rate</th>\n",
       "      <th>Land Area (square miles)</th>\n",
       "      <th>Population Density (people/square mile)</th>\n",
       "      <th>Lat</th>\n",
       "      <th>Lng</th>\n",
       "    </tr>\n",
       "  </thead>\n",
       "  <tbody>\n",
       "    <tr>\n",
       "      <th>4</th>\n",
       "      <td>California</td>\n",
       "      <td>39512223</td>\n",
       "      <td>75250</td>\n",
       "      <td>640499</td>\n",
       "      <td>11523</td>\n",
       "      <td>1.799066</td>\n",
       "      <td>155959</td>\n",
       "      <td>253.350066</td>\n",
       "      <td>36.778261</td>\n",
       "      <td>-119.417932</td>\n",
       "    </tr>\n",
       "    <tr>\n",
       "      <th>42</th>\n",
       "      <td>Texas</td>\n",
       "      <td>28995881</td>\n",
       "      <td>60632</td>\n",
       "      <td>577220</td>\n",
       "      <td>10798</td>\n",
       "      <td>1.870691</td>\n",
       "      <td>261797</td>\n",
       "      <td>110.757117</td>\n",
       "      <td>31.968599</td>\n",
       "      <td>-99.901813</td>\n",
       "    </tr>\n",
       "    <tr>\n",
       "      <th>8</th>\n",
       "      <td>Florida</td>\n",
       "      <td>21477737</td>\n",
       "      <td>55433</td>\n",
       "      <td>579924</td>\n",
       "      <td>9757</td>\n",
       "      <td>1.682462</td>\n",
       "      <td>53927</td>\n",
       "      <td>398.274278</td>\n",
       "      <td>27.664827</td>\n",
       "      <td>-81.515754</td>\n",
       "    </tr>\n",
       "    <tr>\n",
       "      <th>31</th>\n",
       "      <td>New York</td>\n",
       "      <td>19453561</td>\n",
       "      <td>67648</td>\n",
       "      <td>431298</td>\n",
       "      <td>32446</td>\n",
       "      <td>7.522873</td>\n",
       "      <td>47214</td>\n",
       "      <td>412.029504</td>\n",
       "      <td>40.712775</td>\n",
       "      <td>-74.005973</td>\n",
       "    </tr>\n",
       "    <tr>\n",
       "      <th>37</th>\n",
       "      <td>Pennsylvania</td>\n",
       "      <td>12801989</td>\n",
       "      <td>60891</td>\n",
       "      <td>130286</td>\n",
       "      <td>7561</td>\n",
       "      <td>5.803386</td>\n",
       "      <td>44817</td>\n",
       "      <td>285.650289</td>\n",
       "      <td>41.203322</td>\n",
       "      <td>-77.194525</td>\n",
       "    </tr>\n",
       "  </tbody>\n",
       "</table>\n",
       "</div>"
      ],
      "text/plain": [
       "           State  Population  Median Household Income Est.   Cases  Deaths  \\\n",
       "4     California    39512223                         75250  640499   11523   \n",
       "42         Texas    28995881                         60632  577220   10798   \n",
       "8        Florida    21477737                         55433  579924    9757   \n",
       "31      New York    19453561                         67648  431298   32446   \n",
       "37  Pennsylvania    12801989                         60891  130286    7561   \n",
       "\n",
       "    Mortality Rate  Land Area (square miles)  \\\n",
       "4         1.799066                    155959   \n",
       "42        1.870691                    261797   \n",
       "8         1.682462                     53927   \n",
       "31        7.522873                     47214   \n",
       "37        5.803386                     44817   \n",
       "\n",
       "    Population Density (people/square mile)        Lat         Lng  \n",
       "4                                253.350066  36.778261 -119.417932  \n",
       "42                               110.757117  31.968599  -99.901813  \n",
       "8                                398.274278  27.664827  -81.515754  \n",
       "31                               412.029504  40.712775  -74.005973  \n",
       "37                               285.650289  41.203322  -77.194525  "
      ]
     },
     "execution_count": 2,
     "metadata": {},
     "output_type": "execute_result"
    }
   ],
   "source": [
    "covid = pd.read_csv(\"complete_dataset.csv\")\n",
    "# covid = covid.set_index(\"State\")\n",
    "\n",
    "covid_df = covid.sort_values(\"Population\", ascending=False)\n",
    "covid_df.head()\n",
    "\n",
    "# "
   ]
  },
  {
   "cell_type": "code",
   "execution_count": 3,
   "metadata": {},
   "outputs": [
    {
     "data": {
      "application/vnd.jupyter.widget-view+json": {
       "model_id": "322f3a77650e4a638ad5acc7faa4e1ef",
       "version_major": 2,
       "version_minor": 0
      },
      "text/plain": [
       "Figure(layout=FigureLayout(height='420px'))"
      ]
     },
     "metadata": {},
     "output_type": "display_data"
    }
   ],
   "source": [
    "# Heatmap of Covid-19 Cases in the US by state\n",
    "\n",
    "# Configure gmaps\n",
    "gmaps.configure(api_key=gkey)\n",
    "\n",
    "# Use the Lat and Lng as locations and Humidity as the weight\n",
    "locations = covid[[\"Lat\", \"Lng\"]]\n",
    "weight = covid[\"Cases\"]\n",
    "\n",
    "# Plot Heatmap\n",
    "fig = gmaps.figure()\n",
    "\n",
    "# Create heat layer\n",
    "heat_layer = gmaps.heatmap_layer(locations, weights=weight, \n",
    "                                 dissipating=False, max_intensity=np.max(weight),\n",
    "                                 point_radius=3)\n",
    "\n",
    "\n",
    "# Add layer\n",
    "fig.add_layer(heat_layer)\n",
    "\n",
    "# Display figure\n",
    "fig"
   ]
  },
  {
   "cell_type": "code",
   "execution_count": 4,
   "metadata": {},
   "outputs": [
    {
     "name": "stdout",
     "output_type": "stream",
     "text": [
      "The correlation between both factors is 0.38\n"
     ]
    },
    {
     "data": {
      "image/png": "[encoded data removed]",
      "text/plain": [
       "<Figure size 432x288 with 1 Axes>"
      ]
     },
     "metadata": {
      "needs_background": "light"
     },
     "output_type": "display_data"
    }
   ],
   "source": [
    "# 1) Is there a correlation between Income and Mortality Rate of Covid-19? \n",
    "income = covid[\"Median Household Income Est.\"]\n",
    "mortality_rate = covid[\"Mortality Rate\"]\n",
    "plt.scatter(income, mortality_rate, s=100, edgecolor= \"black\", color=\"green\")\n",
    "plt.xlabel(\"Income ($)\")\n",
    "plt.ylabel(\"Mortality Rate (%)\")\n",
    "plt.title(\"Income vs. Mortality Rate of Covid-19 in the US\")\n",
    "correlation = st.pearsonr(income,mortality_rate)\n",
    "print(f\"The correlation between both factors is {round(correlation[0],2)}\")\n",
    "plt.savefig(\"Images/income_mortality.png\")"
   ]
  },
  {
   "cell_type": "code",
   "execution_count": 5,
   "metadata": {},
   "outputs": [
    {
     "data": {
      "image/png": "[encoded data removed]",
      "text/plain": [
       "<Figure size 1440x360 with 1 Axes>"
      ]
     },
     "metadata": {
      "needs_background": "light"
     },
     "output_type": "display_data"
    }
   ],
   "source": [
    "# 2) What is the Mortality Rate comparison between the States? \n",
    "state = covid[\"State\"]\n",
    "plt.figure(figsize=(20,5))\n",
    "plt.bar(state, mortality_rate, width=0.55, tick_label= state)\n",
    "plt.xticks(rotation=\"vertical\")\n",
    "plt.xlim(-1, 51)\n",
    "plt.ylim(0, 10)\n",
    "plt.xlabel(\"State\")\n",
    "plt.ylabel(\"Mortality Rate (%)\")\n",
    "plt.title(\"State vs. Mortality Rate of Covid-19 in the US\")\n",
    "plt.savefig(\"Images/state_mortality.png\")"
   ]
  },
  {
   "cell_type": "code",
   "execution_count": 6,
   "metadata": {},
   "outputs": [
    {
     "name": "stdout",
     "output_type": "stream",
     "text": [
      "The correlation between both factors is 0.2\n",
      "The linear regression line equation is y = 112.57x + 86384.42\n",
      "The lower quartile of covid-19 cases is: 23605.5\n",
      "The upper quartile of covid-19 cases is: 120637.5\n",
      "The interquartile range of covid-19 cases is: 97032.0\n",
      "The the median of occupancy is: 64429.5 \n",
      "Values below -121942.5 could be outliers.\n",
      "Values above 266185.5 could be outliers.\n"
     ]
    },
    {
     "data": {
      "text/html": [
       "<div>\n",
       "<style scoped>\n",
       "    .dataframe tbody tr th:only-of-type {\n",
       "        vertical-align: middle;\n",
       "    }\n",
       "\n",
       "    .dataframe tbody tr th {\n",
       "        vertical-align: top;\n",
       "    }\n",
       "\n",
       "    .dataframe thead th {\n",
       "        text-align: right;\n",
       "    }\n",
       "</style>\n",
       "<table border=\"1\" class=\"dataframe\">\n",
       "  <thead>\n",
       "    <tr style=\"text-align: right;\">\n",
       "      <th></th>\n",
       "      <th>State</th>\n",
       "      <th>Population</th>\n",
       "      <th>Median Household Income Est.</th>\n",
       "      <th>Cases</th>\n",
       "      <th>Deaths</th>\n",
       "      <th>Mortality Rate</th>\n",
       "      <th>Land Area (square miles)</th>\n",
       "      <th>Population Density (people/square mile)</th>\n",
       "      <th>Lat</th>\n",
       "      <th>Lng</th>\n",
       "    </tr>\n",
       "  </thead>\n",
       "  <tbody>\n",
       "    <tr>\n",
       "      <th>4</th>\n",
       "      <td>California</td>\n",
       "      <td>39512223</td>\n",
       "      <td>75250</td>\n",
       "      <td>640499</td>\n",
       "      <td>11523</td>\n",
       "      <td>1.799066</td>\n",
       "      <td>155959</td>\n",
       "      <td>253.350066</td>\n",
       "      <td>36.778261</td>\n",
       "      <td>-119.417932</td>\n",
       "    </tr>\n",
       "    <tr>\n",
       "      <th>8</th>\n",
       "      <td>Florida</td>\n",
       "      <td>21477737</td>\n",
       "      <td>55433</td>\n",
       "      <td>579924</td>\n",
       "      <td>9757</td>\n",
       "      <td>1.682462</td>\n",
       "      <td>53927</td>\n",
       "      <td>398.274278</td>\n",
       "      <td>27.664827</td>\n",
       "      <td>-81.515754</td>\n",
       "    </tr>\n",
       "    <tr>\n",
       "      <th>31</th>\n",
       "      <td>New York</td>\n",
       "      <td>19453561</td>\n",
       "      <td>67648</td>\n",
       "      <td>431298</td>\n",
       "      <td>32446</td>\n",
       "      <td>7.522873</td>\n",
       "      <td>47214</td>\n",
       "      <td>412.029504</td>\n",
       "      <td>40.712775</td>\n",
       "      <td>-74.005973</td>\n",
       "    </tr>\n",
       "    <tr>\n",
       "      <th>42</th>\n",
       "      <td>Texas</td>\n",
       "      <td>28995881</td>\n",
       "      <td>60632</td>\n",
       "      <td>577220</td>\n",
       "      <td>10798</td>\n",
       "      <td>1.870691</td>\n",
       "      <td>261797</td>\n",
       "      <td>110.757117</td>\n",
       "      <td>31.968599</td>\n",
       "      <td>-99.901813</td>\n",
       "    </tr>\n",
       "  </tbody>\n",
       "</table>\n",
       "</div>"
      ],
      "text/plain": [
       "         State  Population  Median Household Income Est.   Cases  Deaths  \\\n",
       "4   California    39512223                         75250  640499   11523   \n",
       "8      Florida    21477737                         55433  579924    9757   \n",
       "31    New York    19453561                         67648  431298   32446   \n",
       "42       Texas    28995881                         60632  577220   10798   \n",
       "\n",
       "    Mortality Rate  Land Area (square miles)  \\\n",
       "4         1.799066                    155959   \n",
       "8         1.682462                     53927   \n",
       "31        7.522873                     47214   \n",
       "42        1.870691                    261797   \n",
       "\n",
       "    Population Density (people/square mile)        Lat         Lng  \n",
       "4                                253.350066  36.778261 -119.417932  \n",
       "8                                398.274278  27.664827  -81.515754  \n",
       "31                               412.029504  40.712775  -74.005973  \n",
       "42                               110.757117  31.968599  -99.901813  "
      ]
     },
     "execution_count": 6,
     "metadata": {},
     "output_type": "execute_result"
    },
    {
     "data": {
      "image/png": "[encoded data removed]",
      "text/plain": [
       "<Figure size 432x288 with 1 Axes>"
      ]
     },
     "metadata": {
      "needs_background": "light"
     },
     "output_type": "display_data"
    }
   ],
   "source": [
    "# 3) Is there a correlation between Population Density and Number of Covid-19 Cases?\n",
    "pop_dens = covid[\"Population Density (people/square mile)\"]\n",
    "cases = covid[\"Cases\"]\n",
    "plt.scatter(pop_dens, cases, s=100, edgecolor= \"black\", color=\"green\")\n",
    "plt.xlabel(\"Population Density (people/square mile)\")\n",
    "plt.ylabel(\"Covid-19 Cases\")\n",
    "plt.title(\"Population Density vs. Number of Covid-19 Cases in the US\")\n",
    "correlation = st.pearsonr(pop_dens,cases)\n",
    "print(f\"The correlation between both factors is {round(correlation[0],2)}\")\n",
    "\n",
    "(slope, intercept, rvalue, pvalue, stderr) = linregress(pop_dens, cases)\n",
    "regress_values = pop_dens * slope + intercept\n",
    "line_eq = \"y = \" + str(round(slope,2)) + \"x + \" + str(round(intercept,2))\n",
    "plt.plot(pop_dens,regress_values,\"r-\")\n",
    "plt.savefig(\"Images/density_cases.png\")\n",
    "print(f\"The linear regression line equation is {line_eq}\")\n",
    "\n",
    "quartiles = covid[\"Cases\"].quantile([.25,.5,.75])\n",
    "lowerq = quartiles[0.25]\n",
    "upperq = quartiles[0.75]\n",
    "iqr = upperq-lowerq\n",
    "\n",
    "print(f\"The lower quartile of covid-19 cases is: {lowerq}\")\n",
    "print(f\"The upper quartile of covid-19 cases is: {upperq}\")\n",
    "print(f\"The interquartile range of covid-19 cases is: {iqr}\")\n",
    "print(f\"The the median of occupancy is: {quartiles[0.5]} \")\n",
    "\n",
    "lower_bound = lowerq - (1.5*iqr)\n",
    "upper_bound = upperq + (1.5*iqr)\n",
    "print(f\"Values below {lower_bound} could be outliers.\")\n",
    "print(f\"Values above {upper_bound} could be outliers.\")\n",
    "\n",
    "outlier_cases = covid.loc[(covid[\"Cases\"] < lower_bound) | (covid[\"Cases\"] > upper_bound)]\n",
    "outlier_cases"
   ]
  },
  {
   "cell_type": "code",
   "execution_count": 7,
   "metadata": {},
   "outputs": [
    {
     "name": "stdout",
     "output_type": "stream",
     "text": [
      "The correlation between both factors is 0.31\n",
      "The linear regression line equation is y = 112.57x + 86384.42\n"
     ]
    },
    {
     "data": {
      "image/png": "[encoded data removed]",
      "text/plain": [
       "<Figure size 432x288 with 1 Axes>"
      ]
     },
     "metadata": {
      "needs_background": "light"
     },
     "output_type": "display_data"
    }
   ],
   "source": [
    "# 3) Is there a correlation between Population Density and Number of Covid-19 Cases?\n",
    "# Taking out the outliers from previous scatter plot\n",
    "quartiles = covid[\"Cases\"].quantile([.25,.5,.75])\n",
    "lowerq = quartiles[0.25]\n",
    "upperq = quartiles[0.75]\n",
    "iqr = upperq-lowerq\n",
    "lower_bound = lowerq - (1.5*iqr)\n",
    "upper_bound = upperq + (1.5*iqr)\n",
    "no_outliers = covid.loc[(covid[\"Cases\"] > lower_bound) & (covid[\"Cases\"] < upper_bound)]\n",
    "\n",
    "pop_dens_no = no_outliers[\"Population Density (people/square mile)\"]\n",
    "cases_no = no_outliers[\"Cases\"]\n",
    "plt.scatter(pop_dens_no, cases_no, s=100, edgecolor= \"black\", color=\"green\")\n",
    "plt.xlabel(\"Population Density (people/square mile)\")\n",
    "plt.ylabel(\"Covid-19 Cases\")\n",
    "plt.title(\"Population Density vs. Number of Covid-19 Cases in the US (No Outliers)\")\n",
    "correlation = st.pearsonr(pop_dens_no,cases_no)\n",
    "print(f\"The correlation between both factors is {round(correlation[0],2)}\")\n",
    "print(f\"The linear regression line equation is {line_eq}\")\n",
    "\n",
    "(slope, intercept, rvalue, pvalue, stderr) = linregress(pop_dens_no, cases_no)\n",
    "regress_values = pop_dens_no * slope + intercept\n",
    "line_eq = \"y = \" + str(round(slope,2)) + \"x + \" + str(round(intercept,2))\n",
    "plt.plot(pop_dens_no,regress_values,\"r-\")\n",
    "plt.savefig(\"Images/density_cases_noOutliers.png\")"
   ]
  },
  {
   "cell_type": "code",
   "execution_count": 8,
   "metadata": {},
   "outputs": [
    {
     "name": "stderr",
     "output_type": "stream",
     "text": [
      "/opt/anaconda3/lib/python3.7/site-packages/ipykernel_launcher.py:3: SettingWithCopyWarning: \n",
      "A value is trying to be set on a copy of a slice from a DataFrame.\n",
      "Try using .loc[row_indexer,col_indexer] = value instead\n",
      "\n",
      "See the caveats in the documentation: https://pandas.pydata.org/pandas-docs/stable/user_guide/indexing.html#returning-a-view-versus-a-copy\n",
      "  This is separate from the ipykernel package so we can avoid doing imports until\n"
     ]
    },
    {
     "data": {
      "text/html": [
       "<div>\n",
       "<style scoped>\n",
       "    .dataframe tbody tr th:only-of-type {\n",
       "        vertical-align: middle;\n",
       "    }\n",
       "\n",
       "    .dataframe tbody tr th {\n",
       "        vertical-align: top;\n",
       "    }\n",
       "\n",
       "    .dataframe thead th {\n",
       "        text-align: right;\n",
       "    }\n",
       "</style>\n",
       "<table border=\"1\" class=\"dataframe\">\n",
       "  <thead>\n",
       "    <tr style=\"text-align: right;\">\n",
       "      <th></th>\n",
       "      <th>State</th>\n",
       "      <th>Population Density (people/square mile)</th>\n",
       "      <th>Sqmile/Person</th>\n",
       "    </tr>\n",
       "  </thead>\n",
       "  <tbody>\n",
       "    <tr>\n",
       "      <th>29</th>\n",
       "      <td>New Jersey</td>\n",
       "      <td>1197.544829</td>\n",
       "      <td>0.000835</td>\n",
       "    </tr>\n",
       "    <tr>\n",
       "      <th>38</th>\n",
       "      <td>Rhode Island</td>\n",
       "      <td>1013.742584</td>\n",
       "      <td>0.000986</td>\n",
       "    </tr>\n",
       "    <tr>\n",
       "      <th>20</th>\n",
       "      <td>Massachusetts</td>\n",
       "      <td>879.145791</td>\n",
       "      <td>0.001137</td>\n",
       "    </tr>\n",
       "    <tr>\n",
       "      <th>6</th>\n",
       "      <td>Connecticut</td>\n",
       "      <td>735.869350</td>\n",
       "      <td>0.001359</td>\n",
       "    </tr>\n",
       "    <tr>\n",
       "      <th>19</th>\n",
       "      <td>Maryland</td>\n",
       "      <td>618.547166</td>\n",
       "      <td>0.001617</td>\n",
       "    </tr>\n",
       "  </tbody>\n",
       "</table>\n",
       "</div>"
      ],
      "text/plain": [
       "            State  Population Density (people/square mile)  Sqmile/Person\n",
       "29     New Jersey                              1197.544829       0.000835\n",
       "38   Rhode Island                              1013.742584       0.000986\n",
       "20  Massachusetts                               879.145791       0.001137\n",
       "6     Connecticut                               735.869350       0.001359\n",
       "19       Maryland                               618.547166       0.001617"
      ]
     },
     "execution_count": 8,
     "metadata": {},
     "output_type": "execute_result"
    }
   ],
   "source": [
    "# Bonus: Can each state do 6ft social distancing? \n",
    "state_size = covid[[\"State\", \"Population Density (people/square mile)\"]]\n",
    "state_size[\"Sqmile/Person\"] = 1/state_size[\"Population Density (people/square mile)\"]\n",
    "\n",
    "state_size = state_size.sort_values(\"Sqmile/Person\", ascending=True)\n",
    "state_size.head()"
   ]
  },
  {
   "cell_type": "code",
   "execution_count": 9,
   "metadata": {},
   "outputs": [
    {
     "name": "stdout",
     "output_type": "stream",
     "text": [
      "4.056801425433572e-06\n"
     ]
    },
    {
     "data": {
      "text/html": [
       "<div>\n",
       "<style scoped>\n",
       "    .dataframe tbody tr th:only-of-type {\n",
       "        vertical-align: middle;\n",
       "    }\n",
       "\n",
       "    .dataframe tbody tr th {\n",
       "        vertical-align: top;\n",
       "    }\n",
       "\n",
       "    .dataframe thead th {\n",
       "        text-align: right;\n",
       "    }\n",
       "</style>\n",
       "<table border=\"1\" class=\"dataframe\">\n",
       "  <thead>\n",
       "    <tr style=\"text-align: right;\">\n",
       "      <th></th>\n",
       "      <th>State</th>\n",
       "      <th>Population Density (people/square mile)</th>\n",
       "      <th>Sqmile/Person</th>\n",
       "    </tr>\n",
       "  </thead>\n",
       "  <tbody>\n",
       "  </tbody>\n",
       "</table>\n",
       "</div>"
      ],
      "text/plain": [
       "Empty DataFrame\n",
       "Columns: [State, Population Density (people/square mile), Sqmile/Person]\n",
       "Index: []"
      ]
     },
     "execution_count": 9,
     "metadata": {},
     "output_type": "execute_result"
    }
   ],
   "source": [
    "# Converting 6ft radius to miles\n",
    "sqft_to_sqmile = .00000003587\n",
    "social_distance = (pi * 6**2) * sqft_to_sqmile\n",
    "new_size = state_size.loc[state_size[\"Sqmile/Person\"] < social_distance]\n",
    "\n",
    "print(social_distance)\n",
    "new_size"
   ]
  },
  {
   "cell_type": "code",
   "execution_count": null,
   "metadata": {},
   "outputs": [],
   "source": []
  }
 ],
 "metadata": {
  "kernelspec": {
   "display_name": "Python 3",
   "language": "python",
   "name": "python3"
  },
  "language_info": {
   "codemirror_mode": {
    "name": "ipython",
    "version": 3
   },
   "file_extension": ".py",
   "mimetype": "text/x-python",
   "name": "python",
   "nbconvert_exporter": "python",
   "pygments_lexer": "ipython3",
   "version": "3.7.6"
  }
 },
 "nbformat": 4,
 "nbformat_minor": 4
}
