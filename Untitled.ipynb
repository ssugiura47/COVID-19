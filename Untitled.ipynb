{
 "cells": [
  {
   "cell_type": "code",
   "execution_count": null,
   "metadata": {},
   "outputs": [],
   "source": [
    "def numberZero(n):\n",
    "    outputList = []\n",
    "\n",
    "    if n>0:\n",
    "        while n > 0:\n",
    "            if n % 2 == 0:\n",
    "                output = n/2\n",
    "                output2 = -n/2\n",
    "                n = n - 2\n",
    "            else:\n",
    "                \n",
    "    elif n = 0:\n",
    "            outputList.append(0)\n",
    "    else:\n",
    "        print(f\"You entered n that is a negative number\")"
   ]
  },
  {
   "cell_type": "code",
   "execution_count": 5,
   "metadata": {},
   "outputs": [
    {
     "data": {
      "text/plain": [
       "1"
      ]
     },
     "execution_count": 5,
     "metadata": {},
     "output_type": "execute_result"
    }
   ],
   "source": [
    "x = 1 % 2 \n",
    "x"
   ]
  },
  {
   "cell_type": "code",
   "execution_count": 29,
   "metadata": {},
   "outputs": [],
   "source": [
    "def numberZero(n):\n",
    "    outputList = []\n",
    "    if n % 2 == 0:\n",
    "        for i in range(1, n//2+1):\n",
    "            outputList.append(i)\n",
    "            outputList.append(-i)  \n",
    "    else:\n",
    "        outputList.append(0)\n",
    "        for i in range(1, n//2+1):\n",
    "            outputList.append(i)\n",
    "            outputList.append(-i)\n",
    "        \n",
    "    return outputList"
   ]
  },
  {
   "cell_type": "code",
   "execution_count": 30,
   "metadata": {},
   "outputs": [
    {
     "data": {
      "text/plain": [
       "[0,\n",
       " 1,\n",
       " -1,\n",
       " 2,\n",
       " -2,\n",
       " 3,\n",
       " -3,\n",
       " 4,\n",
       " -4,\n",
       " 5,\n",
       " -5,\n",
       " 6,\n",
       " -6,\n",
       " 7,\n",
       " -7,\n",
       " 8,\n",
       " -8,\n",
       " 9,\n",
       " -9,\n",
       " 10,\n",
       " -10,\n",
       " 11,\n",
       " -11]"
      ]
     },
     "execution_count": 30,
     "metadata": {},
     "output_type": "execute_result"
    }
   ],
   "source": [
    "numberZero(23)"
   ]
  },
  {
   "cell_type": "code",
   "execution_count": 27,
   "metadata": {},
   "outputs": [],
   "source": [
    "def numberZero(n):\n",
    "    outputList = []\n",
    "    for i in range(1, n//2+1):\n",
    "            outputList.append(i)\n",
    "            outputList.append(-i)   \n",
    "    if n%2 == 1:\n",
    "        outputList.append(0)\n",
    "    return outputList"
   ]
  },
  {
   "cell_type": "code",
   "execution_count": 28,
   "metadata": {},
   "outputs": [
    {
     "data": {
      "text/plain": [
       "[1,\n",
       " -1,\n",
       " 2,\n",
       " -2,\n",
       " 3,\n",
       " -3,\n",
       " 4,\n",
       " -4,\n",
       " 5,\n",
       " -5,\n",
       " 6,\n",
       " -6,\n",
       " 7,\n",
       " -7,\n",
       " 8,\n",
       " -8,\n",
       " 9,\n",
       " -9,\n",
       " 10,\n",
       " -10,\n",
       " 11,\n",
       " -11,\n",
       " 0]"
      ]
     },
     "execution_count": 28,
     "metadata": {},
     "output_type": "execute_result"
    }
   ],
   "source": [
    "numberZero(23)"
   ]
  },
  {
   "cell_type": "code",
   "execution_count": null,
   "metadata": {},
   "outputs": [],
   "source": []
  }
 ],
 "metadata": {
  "kernelspec": {
   "display_name": "Python 3",
   "language": "python",
   "name": "python3"
  },
  "language_info": {
   "codemirror_mode": {
    "name": "ipython",
    "version": 3
   },
   "file_extension": ".py",
   "mimetype": "text/x-python",
   "name": "python",
   "nbconvert_exporter": "python",
   "pygments_lexer": "ipython3",
   "version": "3.7.6"
  }
 },
 "nbformat": 4,
 "nbformat_minor": 4
}
